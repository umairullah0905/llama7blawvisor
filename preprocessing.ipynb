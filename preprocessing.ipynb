{
 "cells": [
  {
   "cell_type": "code",
   "execution_count": 1,
   "metadata": {},
   "outputs": [],
   "source": [
    "import pandas as pd"
   ]
  },
  {
   "cell_type": "code",
   "execution_count": 2,
   "metadata": {},
   "outputs": [],
   "source": [
    "from tqdm import tqdm"
   ]
  },
  {
   "cell_type": "code",
   "execution_count": 3,
   "metadata": {},
   "outputs": [],
   "source": [
    "df=pd.read_csv(\"/home/umair123/pytorchproject/llama_project/train.csv\")"
   ]
  },
  {
   "cell_type": "code",
   "execution_count": 4,
   "metadata": {},
   "outputs": [],
   "source": [
    "df=df.drop(labels=range(1001,12177),axis=0,inplace=False)\n",
    "df=df.reset_index()"
   ]
  },
  {
   "cell_type": "code",
   "execution_count": 5,
   "metadata": {},
   "outputs": [
    {
     "data": {
      "text/plain": [
       "Index(['index', 'Case Name', 'Input', 'Output', 'Label', 'Count',\n",
       "       'Decision_Count'],\n",
       "      dtype='object')"
      ]
     },
     "execution_count": 5,
     "metadata": {},
     "output_type": "execute_result"
    }
   ],
   "source": [
    "df.columns"
   ]
  },
  {
   "cell_type": "code",
   "execution_count": 6,
   "metadata": {},
   "outputs": [
    {
     "name": "stdout",
     "output_type": "stream",
     "text": [
      "<class 'pandas.core.frame.DataFrame'>\n",
      "RangeIndex: 1002 entries, 0 to 1001\n",
      "Data columns (total 7 columns):\n",
      " #   Column          Non-Null Count  Dtype \n",
      "---  ------          --------------  ----- \n",
      " 0   index           1002 non-null   int64 \n",
      " 1   Case Name       1002 non-null   object\n",
      " 2   Input           1002 non-null   object\n",
      " 3   Output          1002 non-null   object\n",
      " 4   Label           1002 non-null   int64 \n",
      " 5   Count           1002 non-null   int64 \n",
      " 6   Decision_Count  1002 non-null   int64 \n",
      "dtypes: int64(4), object(3)\n",
      "memory usage: 54.9+ KB\n"
     ]
    }
   ],
   "source": [
    "df.info()"
   ]
  },
  {
   "cell_type": "code",
   "execution_count": 7,
   "metadata": {},
   "outputs": [
    {
     "data": {
      "text/html": [
       "<div>\n",
       "<style scoped>\n",
       "    .dataframe tbody tr th:only-of-type {\n",
       "        vertical-align: middle;\n",
       "    }\n",
       "\n",
       "    .dataframe tbody tr th {\n",
       "        vertical-align: top;\n",
       "    }\n",
       "\n",
       "    .dataframe thead th {\n",
       "        text-align: right;\n",
       "    }\n",
       "</style>\n",
       "<table border=\"1\" class=\"dataframe\">\n",
       "  <thead>\n",
       "    <tr style=\"text-align: right;\">\n",
       "      <th></th>\n",
       "      <th>index</th>\n",
       "      <th>Case Name</th>\n",
       "      <th>Input</th>\n",
       "      <th>Output</th>\n",
       "      <th>Label</th>\n",
       "      <th>Count</th>\n",
       "      <th>Decision_Count</th>\n",
       "    </tr>\n",
       "  </thead>\n",
       "  <tbody>\n",
       "    <tr>\n",
       "      <th>0</th>\n",
       "      <td>0</td>\n",
       "      <td>KAMLESH Vs. UNION OF INDIA THROUGH SECRETARY, ...</td>\n",
       "      <td>S. ABDUL NAZEER, J. 1. In this appeal, appella...</td>\n",
       "      <td>0[ds]7. It is clear from the order of appointm...</td>\n",
       "      <td>0</td>\n",
       "      <td>1253</td>\n",
       "      <td>564</td>\n",
       "    </tr>\n",
       "    <tr>\n",
       "      <th>1</th>\n",
       "      <td>1</td>\n",
       "      <td>KANWAR PAL SINGH Vs. THE STATE OF UTTAR PRADESH</td>\n",
       "      <td>SANJIV KHANNA, J. 1. Leave granted. 2. Kanwar ...</td>\n",
       "      <td>1[ds]5. We find the submission of the appellan...</td>\n",
       "      <td>1</td>\n",
       "      <td>4065</td>\n",
       "      <td>2268</td>\n",
       "    </tr>\n",
       "    <tr>\n",
       "      <th>2</th>\n",
       "      <td>2</td>\n",
       "      <td>Manke Ram Vs. State of Haryana</td>\n",
       "      <td>Santosh Hegde, J. 1. The incident which gives ...</td>\n",
       "      <td>1[ds]6. Having perused the material on record ...</td>\n",
       "      <td>1</td>\n",
       "      <td>1616</td>\n",
       "      <td>708</td>\n",
       "    </tr>\n",
       "    <tr>\n",
       "      <th>3</th>\n",
       "      <td>3</td>\n",
       "      <td>Kr. Jyoti Sarup and Another Vs. Board of Reven...</td>\n",
       "      <td>S.K. Das, J. 1. These two appeals and the conn...</td>\n",
       "      <td>0[ds]7. We are in agreement with the view, exp...</td>\n",
       "      <td>0</td>\n",
       "      <td>2440</td>\n",
       "      <td>784</td>\n",
       "    </tr>\n",
       "    <tr>\n",
       "      <th>4</th>\n",
       "      <td>4</td>\n",
       "      <td>Commissioner Of Income-Tax, Kerala Vs. Gemini ...</td>\n",
       "      <td>Shah, J. 1. Two persons-Walter and Ramasubramo...</td>\n",
       "      <td>1[ds]That case can have no application to the ...</td>\n",
       "      <td>1</td>\n",
       "      <td>3317</td>\n",
       "      <td>722</td>\n",
       "    </tr>\n",
       "  </tbody>\n",
       "</table>\n",
       "</div>"
      ],
      "text/plain": [
       "   index                                          Case Name  \\\n",
       "0      0  KAMLESH Vs. UNION OF INDIA THROUGH SECRETARY, ...   \n",
       "1      1    KANWAR PAL SINGH Vs. THE STATE OF UTTAR PRADESH   \n",
       "2      2                     Manke Ram Vs. State of Haryana   \n",
       "3      3  Kr. Jyoti Sarup and Another Vs. Board of Reven...   \n",
       "4      4  Commissioner Of Income-Tax, Kerala Vs. Gemini ...   \n",
       "\n",
       "                                               Input  \\\n",
       "0  S. ABDUL NAZEER, J. 1. In this appeal, appella...   \n",
       "1  SANJIV KHANNA, J. 1. Leave granted. 2. Kanwar ...   \n",
       "2  Santosh Hegde, J. 1. The incident which gives ...   \n",
       "3  S.K. Das, J. 1. These two appeals and the conn...   \n",
       "4  Shah, J. 1. Two persons-Walter and Ramasubramo...   \n",
       "\n",
       "                                              Output  Label  Count  \\\n",
       "0  0[ds]7. It is clear from the order of appointm...      0   1253   \n",
       "1  1[ds]5. We find the submission of the appellan...      1   4065   \n",
       "2  1[ds]6. Having perused the material on record ...      1   1616   \n",
       "3  0[ds]7. We are in agreement with the view, exp...      0   2440   \n",
       "4  1[ds]That case can have no application to the ...      1   3317   \n",
       "\n",
       "   Decision_Count  \n",
       "0             564  \n",
       "1            2268  \n",
       "2             708  \n",
       "3             784  \n",
       "4             722  "
      ]
     },
     "execution_count": 7,
     "metadata": {},
     "output_type": "execute_result"
    }
   ],
   "source": [
    "df.head()"
   ]
  },
  {
   "cell_type": "code",
   "execution_count": 8,
   "metadata": {},
   "outputs": [],
   "source": [
    "def preprocess_case(text):\n",
    "    max_tokens=1000\n",
    "    tokens=text.split(' ')\n",
    "    num_tokens_to_extract=min(max_tokens,len(tokens))\n",
    "    text1 = ' '.join(tokens[-num_tokens_to_extract:len(tokens)])\n",
    "    return text1"
   ]
  },
  {
   "cell_type": "code",
   "execution_count": 9,
   "metadata": {},
   "outputs": [],
   "source": [
    "for i, row in df.iterrows():\n",
    "    input=row['Input']\n",
    "    input=preprocess_case(input)\n",
    "    df.at[i,'Input']=input"
   ]
  },
  {
   "cell_type": "code",
   "execution_count": 10,
   "metadata": {},
   "outputs": [],
   "source": [
    "def format_instruction(sample, inst):\n",
    "    return f\"\"\"### Instruction:\n",
    "{inst}\n",
    "\n",
    "### Input:\n",
    "{sample['Input']}\n",
    "\n",
    "## Response:\n",
    "{sample['Output'].split('[ds]')[0]}\n",
    "\n",
    "### Explanation:\n",
    "{preprocess_case(sample['Output'].split('[ds]')[1])}\n",
    "\"\"\"\n",
    "#prediction\n",
    "\n",
    "# def format_instruction(sample, inst):\n",
    "# \treturn f\"\"\"### Instruction:\n",
    "# {inst}\n",
    "\n",
    "# ### Input:\n",
    "# {sample['Input']}\n",
    "\n",
    "# ### Response:\n",
    "# {sample['Output'].split('[ds]')[0]}\n",
    "# \"\"\""
   ]
  },
  {
   "cell_type": "code",
   "execution_count": 11,
   "metadata": {},
   "outputs": [],
   "source": [
    "df_ins = pd.read_csv(\"instruction_decision.csv\")"
   ]
  },
  {
   "cell_type": "code",
   "execution_count": 12,
   "metadata": {},
   "outputs": [
    {
     "data": {
      "text/html": [
       "<div>\n",
       "<style scoped>\n",
       "    .dataframe tbody tr th:only-of-type {\n",
       "        vertical-align: middle;\n",
       "    }\n",
       "\n",
       "    .dataframe tbody tr th {\n",
       "        vertical-align: top;\n",
       "    }\n",
       "\n",
       "    .dataframe thead th {\n",
       "        text-align: right;\n",
       "    }\n",
       "</style>\n",
       "<table border=\"1\" class=\"dataframe\">\n",
       "  <thead>\n",
       "    <tr style=\"text-align: right;\">\n",
       "      <th></th>\n",
       "      <th>Instructions</th>\n",
       "      <th>Instructions_Exp</th>\n",
       "    </tr>\n",
       "  </thead>\n",
       "  <tbody>\n",
       "    <tr>\n",
       "      <th>0</th>\n",
       "      <td>Analyze the case proceeding and predict whethe...</td>\n",
       "      <td>First, predict whether the appeal in case proc...</td>\n",
       "    </tr>\n",
       "    <tr>\n",
       "      <th>1</th>\n",
       "      <td>Based on the information in the case proceedin...</td>\n",
       "      <td>Determine the likely decision of the case (acc...</td>\n",
       "    </tr>\n",
       "    <tr>\n",
       "      <th>2</th>\n",
       "      <td>Review the case details and predict the decisi...</td>\n",
       "      <td>Predict the outcome of the case proceeding (1 ...</td>\n",
       "    </tr>\n",
       "    <tr>\n",
       "      <th>3</th>\n",
       "      <td>Considering the arguments and evidence in case...</td>\n",
       "      <td>Evaluate the case proceeding to forecast the c...</td>\n",
       "    </tr>\n",
       "    <tr>\n",
       "      <th>4</th>\n",
       "      <td>Examine the details of the case proceeding and...</td>\n",
       "      <td>Ascertain if the court will uphold (1) or dism...</td>\n",
       "    </tr>\n",
       "  </tbody>\n",
       "</table>\n",
       "</div>"
      ],
      "text/plain": [
       "                                        Instructions  \\\n",
       "0  Analyze the case proceeding and predict whethe...   \n",
       "1  Based on the information in the case proceedin...   \n",
       "2  Review the case details and predict the decisi...   \n",
       "3  Considering the arguments and evidence in case...   \n",
       "4  Examine the details of the case proceeding and...   \n",
       "\n",
       "                                    Instructions_Exp  \n",
       "0  First, predict whether the appeal in case proc...  \n",
       "1  Determine the likely decision of the case (acc...  \n",
       "2  Predict the outcome of the case proceeding (1 ...  \n",
       "3  Evaluate the case proceeding to forecast the c...  \n",
       "4  Ascertain if the court will uphold (1) or dism...  "
      ]
     },
     "execution_count": 12,
     "metadata": {},
     "output_type": "execute_result"
    }
   ],
   "source": [
    "df_ins.head()"
   ]
  },
  {
   "cell_type": "code",
   "execution_count": 13,
   "metadata": {},
   "outputs": [
    {
     "data": {
      "text/plain": [
       "16"
      ]
     },
     "execution_count": 13,
     "metadata": {},
     "output_type": "execute_result"
    }
   ],
   "source": [
    "len(df_ins)"
   ]
  },
  {
   "cell_type": "code",
   "execution_count": 14,
   "metadata": {},
   "outputs": [
    {
     "data": {
      "text/plain": [
       "index                                                            16\n",
       "Case Name         Unni Krishnan, J.P. and others etc. etc Vs. St...\n",
       "Input             and / or affiliation is not a matter of course...\n",
       "Output            1[ds]143. It is thus well established by the d...\n",
       "Label                                                             1\n",
       "Count                                                         46753\n",
       "Decision_Count                                                 5498\n",
       "Name: 16, dtype: object"
      ]
     },
     "execution_count": 14,
     "metadata": {},
     "output_type": "execute_result"
    }
   ],
   "source": [
    "df.iloc[16]"
   ]
  },
  {
   "cell_type": "code",
   "execution_count": 15,
   "metadata": {},
   "outputs": [
    {
     "data": {
      "text/plain": [
       "\"Hypothesize the court's verdict (affirmation (1) or negation (0) of the appeal), and then clarify this hypothesis by interpreting significant sentences from the case proceeding.\""
      ]
     },
     "execution_count": 15,
     "metadata": {},
     "output_type": "execute_result"
    }
   ],
   "source": [
    "df_ins['Instructions_Exp'][15]"
   ]
  },
  {
   "cell_type": "code",
   "execution_count": 16,
   "metadata": {},
   "outputs": [
    {
     "name": "stderr",
     "output_type": "stream",
     "text": [
      "1002it [00:00, 12306.60it/s]\n"
     ]
    }
   ],
   "source": [
    "import random\n",
    "random.seed(15)\n",
    "text = []\n",
    "for i,row in tqdm(df.iterrows()):\n",
    "  random_index = random.randint(0, len(df_ins) - 1)\n",
    "  t = format_instruction(df.iloc[i],df_ins['Instructions_Exp'][random_index])\n",
    "  # t = format_instruction(df.iloc[i],df_ins['Instructions'][random_index])\n",
    "  text.append(t)"
   ]
  },
  {
   "cell_type": "code",
   "execution_count": 17,
   "metadata": {},
   "outputs": [],
   "source": [
    "df.loc[:, \"text\"] = text"
   ]
  },
  {
   "cell_type": "code",
   "execution_count": 18,
   "metadata": {},
   "outputs": [],
   "source": [
    "random_state = 42\n",
    "\n",
    "# Calculate the number of rows for validation set (10%)\n",
    "val_size = int(0.5 * len(df))\n",
    "\n",
    "df_val = df.sample(n=val_size, random_state=random_state)\n",
    "\n",
    "df_train = df.drop(df_val.index)\n",
    "\n",
    "df_train.reset_index(drop=True, inplace=True)\n",
    "df_val.reset_index(drop=True, inplace=True)"
   ]
  },
  {
   "cell_type": "code",
   "execution_count": 19,
   "metadata": {},
   "outputs": [],
   "source": [
    "df_train.to_csv(\"train_ft.csv\",index=False)\n",
    "df_val.to_csv(\"val_ft.csv\",index=False)"
   ]
  },
  {
   "cell_type": "code",
   "execution_count": null,
   "metadata": {},
   "outputs": [],
   "source": []
  }
 ],
 "metadata": {
  "kernelspec": {
   "display_name": "pytorch241",
   "language": "python",
   "name": "python3"
  },
  "language_info": {
   "codemirror_mode": {
    "name": "ipython",
    "version": 3
   },
   "file_extension": ".py",
   "mimetype": "text/x-python",
   "name": "python",
   "nbconvert_exporter": "python",
   "pygments_lexer": "ipython3",
   "version": "3.11.9"
  }
 },
 "nbformat": 4,
 "nbformat_minor": 2
}
